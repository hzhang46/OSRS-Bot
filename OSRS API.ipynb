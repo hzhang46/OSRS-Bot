{
 "cells": [
  {
   "cell_type": "markdown",
   "metadata": {},
   "source": [
    "Required Modules"
   ]
  },
  {
   "cell_type": "code",
   "execution_count": 85,
   "metadata": {},
   "outputs": [],
   "source": [
    "import requests\n",
    "import json\n",
    "import pandas as pd\n",
    "from datetime import datetime\n",
    "from pytz import timezone"
   ]
  },
  {
   "cell_type": "markdown",
   "metadata": {},
   "source": [
    "# OSRS Get Request"
   ]
  },
  {
   "cell_type": "code",
   "execution_count": 86,
   "metadata": {},
   "outputs": [],
   "source": [
    "url = \"https://secure.runescape.com/m=hiscore_oldschool/index_lite.ws\"\n",
    "pair = {\"player\":\"mmorpg\"}"
   ]
  },
  {
   "cell_type": "code",
   "execution_count": 111,
   "metadata": {},
   "outputs": [],
   "source": [
    "page = requests.get(url, params=pair)"
   ]
  },
  {
   "cell_type": "code",
   "execution_count": 89,
   "metadata": {},
   "outputs": [],
   "source": [
    "hs = page.text.split(\"\\n\")"
   ]
  },
  {
   "cell_type": "code",
   "execution_count": 90,
   "metadata": {},
   "outputs": [],
   "source": [
    "hs1 = [word for line in hs for word in line.split(\",\")]"
   ]
  },
  {
   "cell_type": "code",
   "execution_count": 92,
   "metadata": {},
   "outputs": [],
   "source": [
    "hs1 = [float(i) for i in hs1[:-1]]"
   ]
  },
  {
   "cell_type": "code",
   "execution_count": 93,
   "metadata": {},
   "outputs": [],
   "source": [
    "eastern = timezone('US/Eastern')\n",
    "hs1.insert(0,datetime.now(eastern).strftime(\"%m/%d/%Y, %H:%M:%S\"))\n",
    "hs1.insert(1,\"tehbribri\")"
   ]
  },
  {
   "cell_type": "code",
   "execution_count": 94,
   "metadata": {},
   "outputs": [],
   "source": [
    "highscore = pd.read_csv(\"OSRS Highscores.csv\")"
   ]
  },
  {
   "cell_type": "code",
   "execution_count": 100,
   "metadata": {},
   "outputs": [],
   "source": [
    "s = pd.Series(hs1, index=highscore.columns)\n",
    "highscore = highscore.append(s, ignore_index=True)"
   ]
  },
  {
   "cell_type": "code",
   "execution_count": 101,
   "metadata": {},
   "outputs": [
    {
     "data": {
      "text/html": [
       "<div>\n",
       "<style scoped>\n",
       "    .dataframe tbody tr th:only-of-type {\n",
       "        vertical-align: middle;\n",
       "    }\n",
       "\n",
       "    .dataframe tbody tr th {\n",
       "        vertical-align: top;\n",
       "    }\n",
       "\n",
       "    .dataframe thead th {\n",
       "        text-align: right;\n",
       "    }\n",
       "</style>\n",
       "<table border=\"1\" class=\"dataframe\">\n",
       "  <thead>\n",
       "    <tr style=\"text-align: right;\">\n",
       "      <th></th>\n",
       "      <th>Date</th>\n",
       "      <th>Username</th>\n",
       "      <th>Total Rank</th>\n",
       "      <th>Total Level</th>\n",
       "      <th>Total XP</th>\n",
       "      <th>Attack Rank</th>\n",
       "      <th>Attack Level</th>\n",
       "      <th>Attack XP</th>\n",
       "      <th>Defence Rank</th>\n",
       "      <th>Defence Level</th>\n",
       "      <th>...</th>\n",
       "      <th>Vet'ion Rank</th>\n",
       "      <th>Vet'ion KC</th>\n",
       "      <th>Vorkath Rank</th>\n",
       "      <th>Vorkath KC</th>\n",
       "      <th>Wintertodt Rank</th>\n",
       "      <th>Wintertodt KC</th>\n",
       "      <th>Zalcano Rank</th>\n",
       "      <th>Zalcano KC</th>\n",
       "      <th>Zulrah Rank</th>\n",
       "      <th>Zulrah KC</th>\n",
       "    </tr>\n",
       "  </thead>\n",
       "  <tbody>\n",
       "    <tr>\n",
       "      <th>0</th>\n",
       "      <td>03/30/2021, 18:22:09</td>\n",
       "      <td>tehbribri</td>\n",
       "      <td>400.0</td>\n",
       "      <td>2277.0</td>\n",
       "      <td>1.375118e+09</td>\n",
       "      <td>669.0</td>\n",
       "      <td>99.0</td>\n",
       "      <td>94046529.0</td>\n",
       "      <td>701.0</td>\n",
       "      <td>99.0</td>\n",
       "      <td>...</td>\n",
       "      <td>609.0</td>\n",
       "      <td>1216.0</td>\n",
       "      <td>6081.0</td>\n",
       "      <td>3500.0</td>\n",
       "      <td>136827.0</td>\n",
       "      <td>388.0</td>\n",
       "      <td>1680.0</td>\n",
       "      <td>1837.0</td>\n",
       "      <td>1346.0</td>\n",
       "      <td>10593.0</td>\n",
       "    </tr>\n",
       "    <tr>\n",
       "      <th>1</th>\n",
       "      <td>03/30/2021, 18:22:09</td>\n",
       "      <td>tehbribri</td>\n",
       "      <td>400.0</td>\n",
       "      <td>2277.0</td>\n",
       "      <td>1.375118e+09</td>\n",
       "      <td>669.0</td>\n",
       "      <td>99.0</td>\n",
       "      <td>94046529.0</td>\n",
       "      <td>701.0</td>\n",
       "      <td>99.0</td>\n",
       "      <td>...</td>\n",
       "      <td>609.0</td>\n",
       "      <td>1216.0</td>\n",
       "      <td>6081.0</td>\n",
       "      <td>3500.0</td>\n",
       "      <td>136827.0</td>\n",
       "      <td>388.0</td>\n",
       "      <td>1680.0</td>\n",
       "      <td>1837.0</td>\n",
       "      <td>1346.0</td>\n",
       "      <td>10593.0</td>\n",
       "    </tr>\n",
       "  </tbody>\n",
       "</table>\n",
       "<p>2 rows × 188 columns</p>\n",
       "</div>"
      ],
      "text/plain": [
       "                   Date   Username  Total Rank  Total Level      Total XP  \\\n",
       "0  03/30/2021, 18:22:09  tehbribri       400.0       2277.0  1.375118e+09   \n",
       "1  03/30/2021, 18:22:09  tehbribri       400.0       2277.0  1.375118e+09   \n",
       "\n",
       "   Attack Rank  Attack Level   Attack XP  Defence Rank  Defence Level  ...  \\\n",
       "0        669.0          99.0  94046529.0         701.0           99.0  ...   \n",
       "1        669.0          99.0  94046529.0         701.0           99.0  ...   \n",
       "\n",
       "   Vet'ion Rank  Vet'ion KC  Vorkath Rank  Vorkath KC  Wintertodt Rank  \\\n",
       "0         609.0      1216.0        6081.0      3500.0         136827.0   \n",
       "1         609.0      1216.0        6081.0      3500.0         136827.0   \n",
       "\n",
       "   Wintertodt KC  Zalcano Rank  Zalcano KC  Zulrah Rank  Zulrah KC  \n",
       "0          388.0        1680.0      1837.0       1346.0    10593.0  \n",
       "1          388.0        1680.0      1837.0       1346.0    10593.0  \n",
       "\n",
       "[2 rows x 188 columns]"
      ]
     },
     "execution_count": 101,
     "metadata": {},
     "output_type": "execute_result"
    }
   ],
   "source": [
    "highscore"
   ]
  },
  {
   "cell_type": "markdown",
   "metadata": {},
   "source": [
    "# Convert to Function"
   ]
  },
  {
   "cell_type": "code",
   "execution_count": 108,
   "metadata": {},
   "outputs": [],
   "source": [
    "def get_highscore(username):\n",
    "    url = \"https://secure.runescape.com/m=hiscore_oldschool/index_lite.ws\"\n",
    "    pair = {\"player\":username}\n",
    "    hs_page = requests.get(url, params=pair)\n",
    "    highscore = hs_page.text.split(\"\\n\")\n",
    "    highscore = [word for line in highscore for word in line.split(\",\")]\n",
    "    highscore = [float(i) for i in highscore[:-1]]\n",
    "    \n",
    "    eastern = timezone(\"US/Eastern\")\n",
    "    highscore.insert(0, datetime.now(eastern).strftime(\"%m/%d/%Y, %H:%M:%S\"))\n",
    "    highscore.insert(1, username)\n",
    "    \n",
    "    highscore_database = pd.read_csv(\"OSRS Highscores.csv\")\n",
    "    \n",
    "    append = pd.Series(highscore, index=highscore_database.columns)\n",
    "    highscore_database = highscore_database.append(append, ignore_index=True)\n",
    "    \n",
    "    return(highscore_database)"
   ]
  },
  {
   "cell_type": "code",
   "execution_count": 110,
   "metadata": {},
   "outputs": [
    {
     "data": {
      "text/html": [
       "<div>\n",
       "<style scoped>\n",
       "    .dataframe tbody tr th:only-of-type {\n",
       "        vertical-align: middle;\n",
       "    }\n",
       "\n",
       "    .dataframe tbody tr th {\n",
       "        vertical-align: top;\n",
       "    }\n",
       "\n",
       "    .dataframe thead th {\n",
       "        text-align: right;\n",
       "    }\n",
       "</style>\n",
       "<table border=\"1\" class=\"dataframe\">\n",
       "  <thead>\n",
       "    <tr style=\"text-align: right;\">\n",
       "      <th></th>\n",
       "      <th>Date</th>\n",
       "      <th>Username</th>\n",
       "      <th>Total Rank</th>\n",
       "      <th>Total Level</th>\n",
       "      <th>Total XP</th>\n",
       "      <th>Attack Rank</th>\n",
       "      <th>Attack Level</th>\n",
       "      <th>Attack XP</th>\n",
       "      <th>Defence Rank</th>\n",
       "      <th>Defence Level</th>\n",
       "      <th>...</th>\n",
       "      <th>Vet'ion Rank</th>\n",
       "      <th>Vet'ion KC</th>\n",
       "      <th>Vorkath Rank</th>\n",
       "      <th>Vorkath KC</th>\n",
       "      <th>Wintertodt Rank</th>\n",
       "      <th>Wintertodt KC</th>\n",
       "      <th>Zalcano Rank</th>\n",
       "      <th>Zalcano KC</th>\n",
       "      <th>Zulrah Rank</th>\n",
       "      <th>Zulrah KC</th>\n",
       "    </tr>\n",
       "  </thead>\n",
       "  <tbody>\n",
       "    <tr>\n",
       "      <th>0</th>\n",
       "      <td>03/30/2021, 18:31:51</td>\n",
       "      <td>tehbribri</td>\n",
       "      <td>159168.0</td>\n",
       "      <td>1971.0</td>\n",
       "      <td>106487128.0</td>\n",
       "      <td>404345.0</td>\n",
       "      <td>89.0</td>\n",
       "      <td>5050030.0</td>\n",
       "      <td>362477.0</td>\n",
       "      <td>89.0</td>\n",
       "      <td>...</td>\n",
       "      <td>-1.0</td>\n",
       "      <td>-1.0</td>\n",
       "      <td>-1.0</td>\n",
       "      <td>-1.0</td>\n",
       "      <td>425855.0</td>\n",
       "      <td>80.0</td>\n",
       "      <td>-1.0</td>\n",
       "      <td>-1.0</td>\n",
       "      <td>128980.0</td>\n",
       "      <td>402.0</td>\n",
       "    </tr>\n",
       "  </tbody>\n",
       "</table>\n",
       "<p>1 rows × 188 columns</p>\n",
       "</div>"
      ],
      "text/plain": [
       "                   Date   Username  Total Rank  Total Level     Total XP  \\\n",
       "0  03/30/2021, 18:31:51  tehbribri    159168.0       1971.0  106487128.0   \n",
       "\n",
       "   Attack Rank  Attack Level  Attack XP  Defence Rank  Defence Level  ...  \\\n",
       "0     404345.0          89.0  5050030.0      362477.0           89.0  ...   \n",
       "\n",
       "   Vet'ion Rank  Vet'ion KC  Vorkath Rank  Vorkath KC  Wintertodt Rank  \\\n",
       "0          -1.0        -1.0          -1.0        -1.0         425855.0   \n",
       "\n",
       "   Wintertodt KC  Zalcano Rank  Zalcano KC  Zulrah Rank  Zulrah KC  \n",
       "0           80.0          -1.0        -1.0     128980.0      402.0  \n",
       "\n",
       "[1 rows x 188 columns]"
      ]
     },
     "execution_count": 110,
     "metadata": {},
     "output_type": "execute_result"
    }
   ],
   "source": [
    "get_highscore(\"tehbribri\")"
   ]
  }
 ],
 "metadata": {
  "kernelspec": {
   "display_name": "Pytorch",
   "language": "python",
   "name": "pytorch"
  },
  "language_info": {
   "codemirror_mode": {
    "name": "ipython",
    "version": 3
   },
   "file_extension": ".py",
   "mimetype": "text/x-python",
   "name": "python",
   "nbconvert_exporter": "python",
   "pygments_lexer": "ipython3",
   "version": "3.8.3"
  },
  "toc": {
   "base_numbering": 1,
   "nav_menu": {},
   "number_sections": true,
   "sideBar": true,
   "skip_h1_title": false,
   "title_cell": "Table of Contents",
   "title_sidebar": "Contents",
   "toc_cell": false,
   "toc_position": {},
   "toc_section_display": true,
   "toc_window_display": false
  }
 },
 "nbformat": 4,
 "nbformat_minor": 4
}
